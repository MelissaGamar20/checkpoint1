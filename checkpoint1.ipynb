{
 "cells": [
  {
   "cell_type": "code",
   "execution_count": 1,
   "id": "91c720d5",
   "metadata": {},
   "outputs": [
    {
     "name": "stdout",
     "output_type": "stream",
     "text": [
      "<class 'int'>\n",
      "<class 'float'>\n",
      "<class 'str'>\n",
      "<class 'bool'>\n",
      "<class 'bool'>\n"
     ]
    }
   ],
   "source": [
    "#TypeDeVariable\n",
    "x=3\n",
    "y=2.5\n",
    "z='coucou'\n",
    "h= True\n",
    "k= False\n",
    "\n",
    "print(type(x))\n",
    "print(type(y))\n",
    "print(type(z))\n",
    "print(type(h))\n",
    "print(type(k))\n"
   ]
  },
  {
   "cell_type": "code",
   "execution_count": 3,
   "id": "4d4c3c45",
   "metadata": {},
   "outputs": [
    {
     "name": "stdout",
     "output_type": "stream",
     "text": [
      "11\n",
      "5\n",
      "24\n",
      "2.6666666666666665\n",
      "2\n",
      "512\n",
      "2\n"
     ]
    }
   ],
   "source": [
    "#LesOperations\n",
    "x=8\n",
    "y=3\n",
    "\n",
    "x+y\n",
    "x-y\n",
    "x*y\n",
    "x/y\n",
    "x%y\n",
    "x**y\n",
    "x//y\n",
    "\n",
    "print(x+y)\n",
    "print(x-y)\n",
    "print(x*y)\n",
    "print(x/y)\n",
    "print(x%y)\n",
    "print(x**y)\n",
    "print(x//y)"
   ]
  },
  {
   "cell_type": "code",
   "execution_count": 37,
   "id": "6e814983",
   "metadata": {},
   "outputs": [
    {
     "name": "stdout",
     "output_type": "stream",
     "text": [
      "False\n",
      "True\n",
      "True\n",
      "False\n",
      "True\n",
      "False\n"
     ]
    }
   ],
   "source": [
    "#Comparaison\n",
    "x=8\n",
    "y=3\n",
    "\n",
    "x==y\n",
    "x==y\n",
    "x>y\n",
    "x<y\n",
    "x>=y\n",
    "x<=y\n",
    "\n",
    "print(x==y)\n",
    "print(x!=y)\n",
    "print(x>y)\n",
    "print(x<y)\n",
    "print(x>=y)\n",
    "print(x<=y)"
   ]
  },
  {
   "cell_type": "code",
   "execution_count": 5,
   "id": "679b62f6",
   "metadata": {},
   "outputs": [
    {
     "name": "stdout",
     "output_type": "stream",
     "text": [
      "Welcome to python\n",
      "W\n",
      "n\n",
      "Welcom\n"
     ]
    },
    {
     "data": {
      "text/plain": [
       "17"
      ]
     },
     "execution_count": 5,
     "metadata": {},
     "output_type": "execute_result"
    }
   ],
   "source": [
    "STR=\"Welcome to python\"\n",
    "\n",
    "print(STR)\n",
    "print(STR[0])\n",
    "print(STR[-1])\n",
    "print(STR[0:6])\n",
    "len(STR)"
   ]
  },
  {
   "cell_type": "code",
   "execution_count": 11,
   "id": "a669d3f3",
   "metadata": {},
   "outputs": [
    {
     "name": "stdout",
     "output_type": "stream",
     "text": [
      "25\n",
      "<class 'int'>\n"
     ]
    }
   ],
   "source": [
    "#changementdetypedevar1\n",
    "x=\"25\"\n",
    "x=int(x)\n",
    "print(x)\n",
    "print(type(x))\n"
   ]
  },
  {
   "cell_type": "code",
   "execution_count": 12,
   "id": "671b58a6",
   "metadata": {},
   "outputs": [
    {
     "name": "stdout",
     "output_type": "stream",
     "text": [
      "25\n",
      "<class 'str'>\n"
     ]
    }
   ],
   "source": [
    "#changementdetypedevar2\n",
    "x=25\n",
    "x=str(x)\n",
    "print(x)\n",
    "print(type(x))"
   ]
  },
  {
   "cell_type": "code",
   "execution_count": 13,
   "id": "40e8941b",
   "metadata": {},
   "outputs": [
    {
     "name": "stdout",
     "output_type": "stream",
     "text": [
      "5.0\n",
      "<class 'float'>\n"
     ]
    }
   ],
   "source": [
    "#changementdetypedevar3\n",
    "x=5\n",
    "x=float(x)\n",
    "print(x)\n",
    "print(type(x))"
   ]
  },
  {
   "cell_type": "code",
   "execution_count": 16,
   "id": "5dae8a8c",
   "metadata": {},
   "outputs": [
    {
     "name": "stdout",
     "output_type": "stream",
     "text": [
      "5\n",
      "6\n",
      "<class 'int'>\n",
      "<class 'int'>\n"
     ]
    }
   ],
   "source": [
    "x=5.7\n",
    "y=int(x)\n",
    "z=round(x)\n",
    "print(y)\n",
    "print(z)\n",
    "print(type(y))\n",
    "print(type(z))"
   ]
  },
  {
   "cell_type": "code",
   "execution_count": 21,
   "id": "25057947",
   "metadata": {},
   "outputs": [
    {
     "name": "stdout",
     "output_type": "stream",
     "text": [
      "3 is a positive number\n",
      "This is always printed\n"
     ]
    }
   ],
   "source": [
    "#condition1\n",
    "n=3\n",
    "if n>0:\n",
    " print(n,\"is a positive number\")\n",
    "print(\"This is always printed\")"
   ]
  },
  {
   "cell_type": "code",
   "execution_count": 26,
   "id": "4f73af43",
   "metadata": {},
   "outputs": [
    {
     "name": "stdout",
     "output_type": "stream",
     "text": [
      "0 is a positive number or zero\n"
     ]
    }
   ],
   "source": [
    "#condition2\n",
    "n=0\n",
    "if n>=0:\n",
    " print(n,\"is a positive number or zero\")\n",
    "else:\n",
    " print(n,\"is a negative number\")"
   ]
  },
  {
   "cell_type": "code",
   "execution_count": 28,
   "id": "51a4f0e9",
   "metadata": {},
   "outputs": [
    {
     "name": "stdout",
     "output_type": "stream",
     "text": [
      "X equal to 10\n"
     ]
    }
   ],
   "source": [
    "#condition3\n",
    "x=10\n",
    "if x==1:\n",
    "    print(\"X equal to 1\")\n",
    "elif x==5:\n",
    "    print(\"X equal to 5\")\n",
    "elif x==10:\n",
    "    print(\"X equal to 10\")\n",
    "else:\n",
    "    print(\"X=\",x)"
   ]
  },
  {
   "cell_type": "code",
   "execution_count": 29,
   "id": "369c2ac9",
   "metadata": {},
   "outputs": [
    {
     "name": "stdout",
     "output_type": "stream",
     "text": [
      "Salam Melissa\n"
     ]
    }
   ],
   "source": [
    "x=\"Melissa\"\n",
    "print(\"Salam\",x)"
   ]
  },
  {
   "cell_type": "code",
   "execution_count": 31,
   "id": "b676267f",
   "metadata": {},
   "outputs": [
    {
     "name": "stdout",
     "output_type": "stream",
     "text": [
      "0\n",
      "1\n",
      "2\n",
      "3\n",
      "4\n"
     ]
    }
   ],
   "source": [
    "#boucle\n",
    "for i in range(5):\n",
    "    print(i)"
   ]
  },
  {
   "cell_type": "code",
   "execution_count": 32,
   "id": "495b4a45",
   "metadata": {},
   "outputs": [
    {
     "name": "stdout",
     "output_type": "stream",
     "text": [
      "3\n",
      "5\n",
      "7\n",
      "9\n"
     ]
    }
   ],
   "source": [
    "#bouclespeciale\n",
    "for i in range(3,10,2):\n",
    "    print(i)"
   ]
  },
  {
   "cell_type": "code",
   "execution_count": 35,
   "id": "16a18209",
   "metadata": {},
   "outputs": [
    {
     "name": "stdout",
     "output_type": "stream",
     "text": [
      "6\n",
      "5\n",
      "3\n",
      "8\n",
      "4\n",
      "2\n",
      "5\n",
      "4\n",
      "11\n",
      "the for ends here\n"
     ]
    }
   ],
   "source": [
    "numbers=[6,5,3,8,4,2,5,4,11]\n",
    "for val in numbers:\n",
    "    print(val)\n",
    "print(\"the for ends here\")"
   ]
  },
  {
   "cell_type": "code",
   "execution_count": 39,
   "id": "463a312b",
   "metadata": {},
   "outputs": [
    {
     "name": "stdout",
     "output_type": "stream",
     "text": [
      "the sum is 55\n"
     ]
    }
   ],
   "source": [
    "s=0\n",
    "i=1\n",
    "n=10\n",
    "while i<=n:\n",
    "    s=s+i\n",
    "    i=i+1\n",
    "print(\"the sum is\",s)"
   ]
  },
  {
   "cell_type": "code",
   "execution_count": 47,
   "id": "096238b3",
   "metadata": {},
   "outputs": [
    {
     "name": "stdout",
     "output_type": "stream",
     "text": [
      "entrer votre mot de passe:MH\n",
      "mot de passe incorrect\n",
      "entrer votre mot de passe:MG20\n",
      "mot de passe correct\n"
     ]
    }
   ],
   "source": [
    "#CONDITIONWHILE\n",
    "passeword=input(\"entrer votre mot de passe:\")\n",
    "x=\"MG20\"\n",
    "while passeword!=x:\n",
    "    print(\"mot de passe incorrect\")\n",
    "    passeword=input(\"entrer votre mot de passe:\")\n",
    "print(\"mot de passe correct\")"
   ]
  },
  {
   "cell_type": "code",
   "execution_count": null,
   "id": "3528f8ff",
   "metadata": {},
   "outputs": [],
   "source": []
  }
 ],
 "metadata": {
  "kernelspec": {
   "display_name": "Python 3 (ipykernel)",
   "language": "python",
   "name": "python3"
  },
  "language_info": {
   "codemirror_mode": {
    "name": "ipython",
    "version": 3
   },
   "file_extension": ".py",
   "mimetype": "text/x-python",
   "name": "python",
   "nbconvert_exporter": "python",
   "pygments_lexer": "ipython3",
   "version": "3.9.12"
  }
 },
 "nbformat": 4,
 "nbformat_minor": 5
}
